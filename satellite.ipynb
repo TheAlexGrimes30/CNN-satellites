version https://git-lfs.github.com/spec/v1
oid sha256:e97ccb1ba1c3a323b3000939facd091d5273649e98b44025e7021527e4a1c6ca
size 15606
